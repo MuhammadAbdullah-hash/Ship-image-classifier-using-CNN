{
  "nbformat": 4,
  "nbformat_minor": 0,
  "metadata": {
    "colab": {
      "name": "Computer_vision.ipynb",
      "provenance": [],
      "collapsed_sections": [],
      "authorship_tag": "ABX9TyOmQinWC+nfH1IBQp0ahCdG",
      "include_colab_link": true
    },
    "kernelspec": {
      "name": "python3",
      "display_name": "Python 3"
    },
    "accelerator": "GPU"
  },
  "cells": [
    {
      "cell_type": "markdown",
      "metadata": {
        "id": "view-in-github",
        "colab_type": "text"
      },
      "source": [
        "<a href=\"https://colab.research.google.com/github/MuhammadAbdullah-hash/Ship-image-classifier-using-CNN/blob/master/Computer_vision.ipynb\" target=\"_parent\"><img src=\"https://colab.research.google.com/assets/colab-badge.svg\" alt=\"Open In Colab\"/></a>"
      ]
    },
    {
      "cell_type": "code",
      "metadata": {
        "id": "QYJpawhKqYsH",
        "colab_type": "code",
        "colab": {
          "base_uri": "https://localhost:8080/",
          "height": 34
        },
        "outputId": "2a3d3794-cec1-489d-c95d-aaa230185423"
      },
      "source": [
        "import numpy as np\n",
        "import tensorflow as tf\n",
        "import keras\n",
        "import pandas as pd\n",
        "import zipfile\n",
        "import cv2\n",
        "import sklearn.model_selection\n",
        "from keras import backend as K\n",
        "\n",
        "from keras.utils import to_categorical"
      ],
      "execution_count": 1,
      "outputs": [
        {
          "output_type": "stream",
          "text": [
            "Using TensorFlow backend.\n"
          ],
          "name": "stderr"
        }
      ]
    },
    {
      "cell_type": "code",
      "metadata": {
        "id": "LjBHMyXisV8M",
        "colab_type": "code",
        "colab": {}
      },
      "source": [
        "with zipfile.ZipFile('/content/train.zip', 'r') as zip_ref:\n",
        "    zip_ref.extractall('/content/sample_data')"
      ],
      "execution_count": 0,
      "outputs": []
    },
    {
      "cell_type": "code",
      "metadata": {
        "id": "JHoY4nyI9PZb",
        "colab_type": "code",
        "outputId": "a65427ef-c441-4bf5-bb89-64addbd30724",
        "colab": {
          "base_uri": "https://localhost:8080/",
          "height": 340
        }
      },
      "source": [
        "# ##################### Data loading and formating ####################### #\n",
        "def pre_process(name): \n",
        "  data = pd.read_csv(name+'.csv')\n",
        "  x = np.array(data['image'])\n",
        "  la = np.array(data['category'])\n",
        "  new = []\n",
        "  for i in x:\n",
        "    y = cv2.imread('/content/images/'+i , 1)\n",
        "    res = cv2.resize(y , (210,126))\n",
        "    new.append(res)\n",
        "  new = np.array(new)\n",
        "  print(data.info())\n",
        "  print(data.describe())\n",
        "  return new , la\n",
        "\n",
        "\n",
        "w , labels = pre_process('train')"
      ],
      "execution_count": 3,
      "outputs": [
        {
          "output_type": "stream",
          "text": [
            "<class 'pandas.core.frame.DataFrame'>\n",
            "RangeIndex: 6252 entries, 0 to 6251\n",
            "Data columns (total 2 columns):\n",
            " #   Column    Non-Null Count  Dtype \n",
            "---  ------    --------------  ----- \n",
            " 0   image     6252 non-null   object\n",
            " 1   category  6252 non-null   int64 \n",
            "dtypes: int64(1), object(1)\n",
            "memory usage: 97.8+ KB\n",
            "None\n",
            "          category\n",
            "count  6252.000000\n",
            "mean      2.657550\n",
            "std       1.528998\n",
            "min       1.000000\n",
            "25%       1.000000\n",
            "50%       2.000000\n",
            "75%       4.000000\n",
            "max       5.000000\n"
          ],
          "name": "stdout"
        }
      ]
    },
    {
      "cell_type": "code",
      "metadata": {
        "id": "FETphUSNP86W",
        "colab_type": "code",
        "outputId": "c5ee97eb-72a7-4ce3-ec52-a802871b4763",
        "colab": {
          "base_uri": "https://localhost:8080/",
          "height": 85
        }
      },
      "source": [
        "# #################### Train_test_split #################### #\n",
        "\n",
        "x_train , x_test , y_train , y_test = sklearn.model_selection.train_test_split(w , labels , test_size=0.1)\n",
        "print(x_train.shape , y_train.shape)\n",
        "print(x_test.shape , y_test.shape)\n",
        "y_dummy = y_test\n",
        "y_train = to_categorical(y_train)\n",
        "print(y_train.shape)\n",
        "y_test = to_categorical(y_test)\n",
        "print(y_test.shape)"
      ],
      "execution_count": 4,
      "outputs": [
        {
          "output_type": "stream",
          "text": [
            "(5626, 126, 210, 3) (5626,)\n",
            "(626, 126, 210, 3) (626,)\n",
            "(5626, 6)\n",
            "(626, 6)\n"
          ],
          "name": "stdout"
        }
      ]
    },
    {
      "cell_type": "code",
      "metadata": {
        "id": "O6Rv_IuaSFTs",
        "colab_type": "code",
        "outputId": "f42bf149-3ad4-4d22-9eb7-05e070e6b9fb",
        "colab": {
          "base_uri": "https://localhost:8080/",
          "height": 904
        }
      },
      "source": [
        "# ################# Model creation ################ #\n",
        "\n",
        "x_train = x_train/255.0\n",
        "x_test = x_test/255.0\n",
        "\n",
        "if K.image_data_format() == 'channels_first':\n",
        "    input_shape = (3, 126 , 210) \n",
        "else:\n",
        "    input_shape = (126, 210, 3)\n",
        "\n",
        "model = keras.Sequential([\n",
        "\n",
        "############## First Convolutional layer so we will specify input_shape here #####################              \n",
        "keras.layers.Conv2D(64, (3,3), activation='relu', input_shape = input_shape  ),\n",
        "keras.layers.MaxPooling2D(2, 2),\n",
        "\n",
        "############## Second Convolutional layer || not specifying input shape #########################\n",
        "keras.layers.Conv2D(64, (3,3), activation='relu'),\n",
        "keras.layers.MaxPooling2D(2, 2),\n",
        "\n",
        "############## Third Convolutional layer || not specifying input shape #########################\n",
        "keras.layers.Conv2D(64, (3,3), activation='relu'),\n",
        "keras.layers.MaxPooling2D(2, 2),\n",
        "\n",
        "############## Fourth Convolutional layer || not specifying input shape ########################\n",
        "keras.layers.Conv2D(64, (3,3), activation='relu'),\n",
        "keras.layers.MaxPooling2D(2, 2),\n",
        "\n",
        "\n",
        "############### Flattening input ################## \n",
        "keras.layers.Flatten(),\n",
        "\n",
        "############## Neurons droped per E-poch ##########\n",
        "keras.layers.Dropout(0.5),\n",
        "# 512 neuron hidden layer\n",
        "keras.layers.Dense(512, activation='relu'),\n",
        "keras.layers.Dense(6 , activation='softmax')\n",
        "\n",
        "])\n",
        "\n",
        "model.summary()\n",
        "\n",
        "model.compile(loss = 'categorical_crossentropy', optimizer='rmsprop', metrics=['accuracy'])\n",
        "\n",
        "# model.fit(train_generator, epochs=25, steps_per_epoch=20, validation_data = validation_generator, verbose = 1, validation_steps=3)\n",
        "\n",
        "# ###### Fitting model ######\n",
        "model.fit(x_train , y_train , epochs=8 , validation_data=(x_test, y_test))\n",
        "\n",
        "loss , acc = model.evaluate( x_test , y_test )\n",
        "\n",
        "print(acc)\n"
      ],
      "execution_count": 0,
      "outputs": [
        {
          "output_type": "stream",
          "text": [
            "Model: \"sequential_13\"\n",
            "_________________________________________________________________\n",
            "Layer (type)                 Output Shape              Param #   \n",
            "=================================================================\n",
            "conv2d_47 (Conv2D)           (None, 124, 208, 64)      1792      \n",
            "_________________________________________________________________\n",
            "max_pooling2d_47 (MaxPooling (None, 62, 104, 64)       0         \n",
            "_________________________________________________________________\n",
            "conv2d_48 (Conv2D)           (None, 60, 102, 64)       36928     \n",
            "_________________________________________________________________\n",
            "max_pooling2d_48 (MaxPooling (None, 30, 51, 64)        0         \n",
            "_________________________________________________________________\n",
            "conv2d_49 (Conv2D)           (None, 28, 49, 64)        36928     \n",
            "_________________________________________________________________\n",
            "max_pooling2d_49 (MaxPooling (None, 14, 24, 64)        0         \n",
            "_________________________________________________________________\n",
            "conv2d_50 (Conv2D)           (None, 12, 22, 64)        36928     \n",
            "_________________________________________________________________\n",
            "max_pooling2d_50 (MaxPooling (None, 6, 11, 64)         0         \n",
            "_________________________________________________________________\n",
            "flatten_13 (Flatten)         (None, 4224)              0         \n",
            "_________________________________________________________________\n",
            "dropout_13 (Dropout)         (None, 4224)              0         \n",
            "_________________________________________________________________\n",
            "dense_25 (Dense)             (None, 512)               2163200   \n",
            "_________________________________________________________________\n",
            "dense_26 (Dense)             (None, 6)                 3078      \n",
            "=================================================================\n",
            "Total params: 2,278,854\n",
            "Trainable params: 2,278,854\n",
            "Non-trainable params: 0\n",
            "_________________________________________________________________\n",
            "Train on 5626 samples, validate on 626 samples\n",
            "Epoch 1/8\n",
            "5626/5626 [==============================] - 16s 3ms/step - loss: 1.4330 - accuracy: 0.3875 - val_loss: 1.1482 - val_accuracy: 0.5575\n",
            "Epoch 2/8\n",
            "5626/5626 [==============================] - 16s 3ms/step - loss: 1.0663 - accuracy: 0.5613 - val_loss: 0.9952 - val_accuracy: 0.5799\n",
            "Epoch 3/8\n",
            "5626/5626 [==============================] - 16s 3ms/step - loss: 0.8576 - accuracy: 0.6559 - val_loss: 0.7916 - val_accuracy: 0.7013\n",
            "Epoch 4/8\n",
            "5626/5626 [==============================] - 16s 3ms/step - loss: 0.7249 - accuracy: 0.7103 - val_loss: 0.8533 - val_accuracy: 0.6725\n",
            "Epoch 5/8\n",
            "5626/5626 [==============================] - 16s 3ms/step - loss: 0.6375 - accuracy: 0.7506 - val_loss: 0.8201 - val_accuracy: 0.7173\n",
            "Epoch 6/8\n",
            "5626/5626 [==============================] - 16s 3ms/step - loss: 0.5592 - accuracy: 0.7800 - val_loss: 0.5901 - val_accuracy: 0.7812\n",
            "Epoch 7/8\n",
            "5626/5626 [==============================] - 16s 3ms/step - loss: 0.4953 - accuracy: 0.8061 - val_loss: 0.6836 - val_accuracy: 0.7604\n",
            "Epoch 8/8\n",
            "5626/5626 [==============================] - 16s 3ms/step - loss: 0.4502 - accuracy: 0.8249 - val_loss: 0.5560 - val_accuracy: 0.8035\n",
            "626/626 [==============================] - 1s 1ms/step\n",
            "0.8035143613815308\n"
          ],
          "name": "stdout"
        }
      ]
    },
    {
      "cell_type": "code",
      "metadata": {
        "id": "3tjHX03KZjEZ",
        "colab_type": "code",
        "colab": {}
      },
      "source": [
        "# ############### Saving model as hd5 file ################ #\n",
        "\n",
        "model.save('Ship_Class_2.h5')"
      ],
      "execution_count": 0,
      "outputs": []
    },
    {
      "cell_type": "code",
      "metadata": {
        "id": "r3pZKk0mQ0Uy",
        "colab_type": "code",
        "outputId": "bfedf94c-3535-4a10-a7e6-529594d8fe15",
        "colab": {
          "base_uri": "https://localhost:8080/",
          "height": 578
        }
      },
      "source": [
        "# ############ loading the saved model from Keras ################ #\n",
        "\n",
        "from keras.models import load_model\n",
        "\n",
        "model = load_model('/content/Ship_Class_2.h5')\n",
        "\n",
        "print(model.summary())"
      ],
      "execution_count": 18,
      "outputs": [
        {
          "output_type": "stream",
          "text": [
            "Model: \"sequential_13\"\n",
            "_________________________________________________________________\n",
            "Layer (type)                 Output Shape              Param #   \n",
            "=================================================================\n",
            "conv2d_47 (Conv2D)           (None, 124, 208, 64)      1792      \n",
            "_________________________________________________________________\n",
            "max_pooling2d_47 (MaxPooling (None, 62, 104, 64)       0         \n",
            "_________________________________________________________________\n",
            "conv2d_48 (Conv2D)           (None, 60, 102, 64)       36928     \n",
            "_________________________________________________________________\n",
            "max_pooling2d_48 (MaxPooling (None, 30, 51, 64)        0         \n",
            "_________________________________________________________________\n",
            "conv2d_49 (Conv2D)           (None, 28, 49, 64)        36928     \n",
            "_________________________________________________________________\n",
            "max_pooling2d_49 (MaxPooling (None, 14, 24, 64)        0         \n",
            "_________________________________________________________________\n",
            "conv2d_50 (Conv2D)           (None, 12, 22, 64)        36928     \n",
            "_________________________________________________________________\n",
            "max_pooling2d_50 (MaxPooling (None, 6, 11, 64)         0         \n",
            "_________________________________________________________________\n",
            "flatten_13 (Flatten)         (None, 4224)              0         \n",
            "_________________________________________________________________\n",
            "dropout_13 (Dropout)         (None, 4224)              0         \n",
            "_________________________________________________________________\n",
            "dense_25 (Dense)             (None, 512)               2163200   \n",
            "_________________________________________________________________\n",
            "dense_26 (Dense)             (None, 6)                 3078      \n",
            "=================================================================\n",
            "Total params: 2,278,854\n",
            "Trainable params: 2,278,854\n",
            "Non-trainable params: 0\n",
            "_________________________________________________________________\n",
            "None\n"
          ],
          "name": "stdout"
        }
      ]
    },
    {
      "cell_type": "code",
      "metadata": {
        "id": "psWnMDdjMAyd",
        "colab_type": "code",
        "colab": {}
      },
      "source": [
        "z , lab = pre_process('sample_submission_ns2btKE')\n",
        "predictions = model.predict(z)\n",
        "\n",
        "my_dic = {\n",
        "1:'Cargo' ,\n",
        "2:'Military',\n",
        "3:'Carrier',\n",
        "4:'Cruise',\n",
        "5:'Tankers', \n",
        "}\n"
      ],
      "execution_count": 0,
      "outputs": []
    },
    {
      "cell_type": "code",
      "metadata": {
        "id": "ODGubfejcBTR",
        "colab_type": "code",
        "colab": {}
      },
      "source": [
        "\n",
        "%matplotlib inline\n",
        "import matplotlib.pyplot as plt\n",
        "\n",
        "var = 0\n",
        "print(my_dic[lab[var]])\n",
        "\n",
        "plt.imshow(z[var])\n",
        "plt.xlabel( ' Actuall :  ' + my_dic[lab[var]] )\n",
        "plt.ylabel( 'Predicted : ' + my_dic[np.argmax(predictions[var])] )\n",
        "\n",
        "plt.show()\n"
      ],
      "execution_count": 0,
      "outputs": []
    },
    {
      "cell_type": "code",
      "metadata": {
        "id": "-rRq9KPxp7yW",
        "colab_type": "code",
        "colab": {}
      },
      "source": [
        ""
      ],
      "execution_count": 0,
      "outputs": []
    }
  ]
}